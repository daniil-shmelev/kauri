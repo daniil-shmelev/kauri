{
 "cells": [
  {
   "cell_type": "code",
   "execution_count": 1,
   "id": "b5f9d8d0-ae99-449a-b447-0a7e6c5a3cc2",
   "metadata": {},
   "outputs": [],
   "source": [
    "import kauri as kr\n",
    "import pickle"
   ]
  },
  {
   "cell_type": "code",
   "execution_count": 2,
   "id": "ddd08bb8-8d26-4e58-ad47-1b2fd1714c75",
   "metadata": {},
   "outputs": [],
   "source": [
    "with open('oc.pickle', 'rb') as handle:\n",
    "    OC = pickle.load(handle)\n",
    "\n",
    "with open('ec.pickle', 'rb') as handle:\n",
    "    EC = pickle.load(handle)"
   ]
  },
  {
   "cell_type": "code",
   "execution_count": 3,
   "id": "53f90f07-5144-4cfa-b133-3765278a4d60",
   "metadata": {},
   "outputs": [],
   "source": [
    "OC_of_order = []\n",
    "OC_of_order.append(OC[:1])\n",
    "OC_of_order.append(OC[1:2])\n",
    "OC_of_order.append(OC[2:3])\n",
    "OC_of_order.append(OC[3:5])\n",
    "OC_of_order.append(OC[5:9])\n",
    "OC_of_order.append(OC[9:18])\n",
    "OC_of_order.append(OC[18:38])\n",
    "OC_of_order.append(OC[38:86])\n",
    "OC_of_order.append(OC[86:201])\n",
    "\n",
    "EC_of_order = []\n",
    "EC_of_order.append(EC[:1])\n",
    "EC_of_order.append(EC[1:2])\n",
    "EC_of_order.append(EC[2:3])\n",
    "EC_of_order.append(EC[3:5])\n",
    "EC_of_order.append(EC[5:9])\n",
    "EC_of_order.append(EC[9:18])\n",
    "EC_of_order.append(EC[18:38])\n",
    "EC_of_order.append(EC[38:86])\n",
    "EC_of_order.append(EC[86:201])"
   ]
  },
  {
   "cell_type": "markdown",
   "id": "efc167b9-5fd3-484c-bbca-79c932c5a04d",
   "metadata": {},
   "source": [
    "# Number of non-zero order conditions"
   ]
  },
  {
   "cell_type": "markdown",
   "id": "cd5a1f72-dcad-4424-88af-e840e0e2ff2c",
   "metadata": {},
   "source": [
    "## $|\\{\\tau : \\tilde\\tau \\neq 0, |\\tau| \\leq p\\}|$"
   ]
  },
  {
   "cell_type": "code",
   "execution_count": 4,
   "id": "d1ae7db7-5076-4cb8-bce9-b0b49ab4f8da",
   "metadata": {},
   "outputs": [
    {
     "name": "stdout",
     "output_type": "stream",
     "text": [
      "1 0\n",
      "2 1\n",
      "3 2\n",
      "4 6\n",
      "5 14\n",
      "6 34\n",
      "7 81\n",
      "8 196\n",
      "9 481\n"
     ]
    }
   ],
   "source": [
    "m = kr.ident * kr.sign\n",
    "n = 0\n",
    "for p in range(1, 10):\n",
    "    for t in kr.trees_of_order(p):\n",
    "        if m(t) != 0:\n",
    "            n += 1\n",
    "    print(p, n)"
   ]
  },
  {
   "cell_type": "markdown",
   "id": "e4bc9fb4-456f-42c7-a636-d70a2fb11d37",
   "metadata": {},
   "source": [
    "## $|\\{\\tau : \\tau^+ \\neq 0, |\\tau| \\leq p\\}|$"
   ]
  },
  {
   "cell_type": "code",
   "execution_count": 5,
   "id": "ae590b75-63e3-4061-a02b-c2651bd9ea7d",
   "metadata": {},
   "outputs": [
    {
     "name": "stdout",
     "output_type": "stream",
     "text": [
      "1 0\n",
      "2 1\n",
      "3 1\n",
      "4 5\n",
      "5 5\n",
      "6 25\n",
      "7 25\n",
      "8 140\n"
     ]
    }
   ],
   "source": [
    "n = 0\n",
    "for p in range(1, 9):\n",
    "    for t in EC_of_order[p]:\n",
    "        if t != 0:\n",
    "            n += 1\n",
    "    print(p, n)"
   ]
  },
  {
   "cell_type": "markdown",
   "id": "7763f4c6-88f3-4cec-9516-9f85331403f2",
   "metadata": {},
   "source": [
    "# Reduced weights of order conditions"
   ]
  },
  {
   "cell_type": "code",
   "execution_count": 6,
   "id": "5d07eed2-9429-465b-841e-3db4cbcdb1d8",
   "metadata": {},
   "outputs": [],
   "source": [
    "def filter_(n):\n",
    "    def filter__(t):\n",
    "        if 1 <= t.nodes() <= n:\n",
    "            return 1. / t.factorial()\n",
    "        return t\n",
    "    return filter__"
   ]
  },
  {
   "cell_type": "markdown",
   "id": "8957c1d6-2767-46da-9d9a-6fb39dce0a4a",
   "metadata": {},
   "source": [
    "## $w(SC(i), j)$"
   ]
  },
  {
   "cell_type": "code",
   "execution_count": 7,
   "id": "f7247bba-e50b-4446-bf24-e296d0bf6fe6",
   "metadata": {},
   "outputs": [
    {
     "name": "stdout",
     "output_type": "stream",
     "text": [
      "2 1 2\n",
      "2 2 0\n",
      "2 3 0\n",
      "4 1 46\n",
      "4 2 34\n",
      "4 3 16\n",
      "6 1 807\n",
      "6 2 641\n",
      "6 3 503\n",
      "8 1 13332\n",
      "8 2 10866\n",
      "8 3 8708\n"
     ]
    }
   ],
   "source": [
    "for i in range(2, 10, 2):\n",
    "    for j in range(1, 4):\n",
    "        m = kr.Map(filter_(j)) & kr.ident * kr.sign\n",
    "        weight = 0\n",
    "        for t in kr.trees_of_order(i):\n",
    "            out = m(t)\n",
    "            if not isinstance(out, float):\n",
    "                weight += sum(f.nodes() for c,f in out.term_list if abs(c) > 1e-10)\n",
    "        \n",
    "        print(i, j, weight)"
   ]
  },
  {
   "cell_type": "markdown",
   "id": "51690910-fb9d-4909-bab2-9c9632cfcc4e",
   "metadata": {},
   "source": [
    "## $w(EC(i), j)$"
   ]
  },
  {
   "cell_type": "code",
   "execution_count": 8,
   "id": "7145be0d-e52b-4b66-b592-b63877885222",
   "metadata": {},
   "outputs": [
    {
     "name": "stdout",
     "output_type": "stream",
     "text": [
      "2 1 2\n",
      "2 2 0\n",
      "2 3 0\n",
      "4 1 38\n",
      "4 2 34\n",
      "4 3 16\n",
      "6 1 665\n",
      "6 2 549\n",
      "6 3 387\n",
      "8 1 12711\n",
      "8 2 10207\n",
      "8 3 6917\n"
     ]
    }
   ],
   "source": [
    "for i in range(2, 10, 2):\n",
    "    for j in range(1, 4):\n",
    "        c = OC_of_order[i] if i % 2 == 1 else EC_of_order[i]\n",
    "        m = kr.Map(filter_(j))\n",
    "        weight = 0\n",
    "        for t in c:\n",
    "            out = m(t)\n",
    "            if not isinstance(out, float):\n",
    "                weight += sum(f.nodes() for c, f in out.term_list if abs(c) > 1e-10)\n",
    "        \n",
    "        print(i, j, weight)"
   ]
  }
 ],
 "metadata": {
  "kernelspec": {
   "display_name": "Python 3 (ipykernel)",
   "language": "python",
   "name": "python3"
  },
  "language_info": {
   "codemirror_mode": {
    "name": "ipython",
    "version": 3
   },
   "file_extension": ".py",
   "mimetype": "text/x-python",
   "name": "python",
   "nbconvert_exporter": "python",
   "pygments_lexer": "ipython3",
   "version": "3.12.3"
  }
 },
 "nbformat": 4,
 "nbformat_minor": 5
}
