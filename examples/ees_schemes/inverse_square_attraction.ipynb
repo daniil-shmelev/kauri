{
 "cells": [
  {
   "cell_type": "code",
   "execution_count": 1,
   "id": "b600cfea-8df6-4fdd-8e4f-5f99c782a0d0",
   "metadata": {},
   "outputs": [],
   "source": [
    "from math import sqrt\n",
    "import numpy as np\n",
    "from scipy.optimize import root\n",
    "import time\n",
    "\n",
    "def solve_ode(step_func, f, y0, t0, t_end, n):\n",
    "    t_vals = [t0]\n",
    "    y_vals = [np.array(y0)]\n",
    "\n",
    "    t = t0\n",
    "    y = np.array(y0)\n",
    "\n",
    "    h = (t_end - t0) / n\n",
    "    for i in range(n):\n",
    "        y = step_func(f, y, h)\n",
    "        t += h\n",
    "        t_vals.append(t)\n",
    "        y_vals.append(y.copy())\n",
    "    \n",
    "    return np.array(t_vals), np.array(y_vals)"
   ]
  },
  {
   "cell_type": "code",
   "execution_count": 2,
   "id": "b3ecfbd9-ba40-441a-bad8-4616006eef0d",
   "metadata": {},
   "outputs": [],
   "source": [
    "def implicit_midpoint_step(f, y_n, h, tol=1e-10, max_iter=100):\n",
    "    def G(y_next):\n",
    "        midpoint = (y_n + y_next) / 2\n",
    "        return y_next - y_n - h * f(midpoint)\n",
    "    \n",
    "    sol = root(G, y_n, method='hybr', tol=tol, options={'maxfev': max_iter})\n",
    "    \n",
    "    if not sol.success:\n",
    "        raise RuntimeError(f\"Root solver failed: {sol.message}\")\n",
    "    \n",
    "    return sol.x"
   ]
  },
  {
   "cell_type": "code",
   "execution_count": 3,
   "id": "e7add0f7-0bc8-4e77-aa5e-46955663ad66",
   "metadata": {},
   "outputs": [],
   "source": [
    "half = 1/2\n",
    "quarter = 1/4\n",
    "\n",
    "def EES25_1_step(f, y_n, h, tol=1e-10, max_iter=100):\n",
    "    k1 = f(y_n)\n",
    "    k2 = f(y_n + h * half * k1)\n",
    "    k3 = f(y_n + h * k2)\n",
    "    return y_n + h * (quarter * (k1 + k3) + half * (k2))"
   ]
  },
  {
   "cell_type": "code",
   "execution_count": 4,
   "id": "1a9f1685-10a6-442f-a818-1a5dda515968",
   "metadata": {},
   "outputs": [],
   "source": [
    "third = 1/3\n",
    "EES25_a31 = -5/48\n",
    "EES25_a32 = 15/16\n",
    "tenth = 1 / 10\n",
    "twofifths = 2/5\n",
    "\n",
    "def EES25_2_step(f, y_n, h, tol=1e-10, max_iter=100):\n",
    "    k1 = f(y_n)\n",
    "    k2 = f(y_n + h * third * k1)\n",
    "    k3 = f(y_n + h * (EES25_a31 * k1 + EES25_a32 * k2))\n",
    "    return y_n + h * (tenth * k1 + half * k2 + twofifths * k3)"
   ]
  },
  {
   "cell_type": "code",
   "execution_count": 5,
   "id": "b1aaa6fa-6283-4f8b-86ad-9c44f82fb53c",
   "metadata": {},
   "outputs": [],
   "source": [
    "EES27_1_a21 = (2 - sqrt(2)) / 2\n",
    "EES27_1_a32 = sqrt(2) / 2\n",
    "EES27_1_b1 = (2 - sqrt(2)) / 4\n",
    "EES27_1_b2 = sqrt(2) / 4\n",
    "\n",
    "def EES27_1_step(f, y_n, h, tol=1e-10, max_iter=100):\n",
    "    k1 = f(y_n)\n",
    "    k2 = f(y_n + h * EES27_1_a21 * k1)\n",
    "    k3 = f(y_n + h * EES27_1_a32 * k2)\n",
    "    k4 = f(y_n + h * (EES27_1_a21 * k1 + EES27_1_a32 * k3))\n",
    "    return y_n + h * (EES27_1_b1 * (k1 + k4) + EES27_1_b2 * (k2 + k3))"
   ]
  },
  {
   "cell_type": "code",
   "execution_count": 6,
   "id": "456bd587-669e-493f-a57e-081408e52912",
   "metadata": {},
   "outputs": [],
   "source": [
    "EES27_2_a21 = (2 - sqrt(2)) / 3\n",
    "EES27_2_a31 = (-4+sqrt(2)) / 24\n",
    "EES27_2_a32 = (4 + sqrt(2)) / 8\n",
    "EES27_2_a41 = (-176 + 145 * sqrt(2)) / 168\n",
    "EES27_2_a42 = (8 - 5*sqrt(2)) * (3/56)\n",
    "EES27_2_a43 = (3 - sqrt(2))*(3/7)\n",
    "\n",
    "\n",
    "EES27_2_b1 = (5 - 3 * sqrt(2)) / 14\n",
    "EES27_2_b2 = (3 + sqrt(2))/14\n",
    "EES27_2_b3 = (-1+2*sqrt(2)) * (3/14)\n",
    "EES27_2_b4 = (9 - 4*sqrt(2)) / 14\n",
    "\n",
    "def EES27_2_step(f, y_n, h, tol=1e-10, max_iter=100):\n",
    "    k1 = f(y_n)\n",
    "    k2 = f(y_n + h * EES27_2_a21 * k1)\n",
    "    k3 = f(y_n + h * (EES27_2_a31 * k1 + EES27_2_a32 * k2))\n",
    "    k4 = f(y_n + h * (EES27_2_a41 * k1 + EES27_2_a42 * k2 + EES27_2_a43 * k3))\n",
    "    return y_n + h * (EES27_2_b1 * k1 + EES27_2_b2 * k2 + EES27_2_b3 * k3 + EES27_2_b4 * k4)"
   ]
  },
  {
   "cell_type": "code",
   "execution_count": 7,
   "id": "fb281b7d-9cb5-4b2e-ad76-aa97bc947a8b",
   "metadata": {},
   "outputs": [],
   "source": [
    "def run_inverse_square_attraction(name, step_func):\n",
    "\n",
    "    def inverse_square_attraction_func(y):\n",
    "        return np.array([y[2], y[3], -y[0] / ((y[0]**2 + y[1]**2)**(3/2)), -y[1] / ((y[0]**2 + y[1]**2)**(3/2))])\n",
    "    \n",
    "    y0 = np.array([1.0, 0.0, 0.0, 1.0])\n",
    "    t0, t_end, n = 0.0, 10.0, 100\n",
    "    \n",
    "    true_end = np.array([np.cos(t_end), np.sin(t_end), -np.sin(t_end), np.cos(t_end)])\n",
    "\n",
    "    start = time.time()\n",
    "    t_vals, y_vals = solve_ode(step_func, inverse_square_attraction_func, y0, t0, t_end, n)\n",
    "    t_vals, ic_vals = solve_ode(step_func, inverse_square_attraction_func, y_vals[-1,:], t_vals[-1], t0, n)\n",
    "    end = time.time()\n",
    "    time_ = end - start\n",
    "    end_err_ = y_vals[-1,:] - true_end\n",
    "    start_err_ = ic_vals[-1, :] - y0\n",
    "    \n",
    "    return time_, end_err_, start_err_"
   ]
  },
  {
   "cell_type": "code",
   "execution_count": 8,
   "id": "fffe6e49-e995-40c2-8f5d-d3331caeebbd",
   "metadata": {},
   "outputs": [
    {
     "name": "stdout",
     "output_type": "stream",
     "text": [
      "Starting Implicit Midpoint\n",
      "Done Implicit Midpoint\n",
      "\n",
      "Starting EES(1,5;1/4)\n",
      "Done EES(1,5;1/4)\n",
      "\n",
      "Starting EES(2,5;1/10)\n",
      "Done EES(2,5;1/10)\n",
      "\n",
      "Starting EES(2,7;(2-sqrt(2))/4)\n",
      "Done EES(2,7;(2-sqrt(2))/4)\n",
      "\n",
      "Starting EES(2,7;(5-3*sqrt(2))/14)\n",
      "Done EES(2,7;(5-3*sqrt(2))/14)\n",
      "\n"
     ]
    }
   ],
   "source": [
    "import time\n",
    "\n",
    "times = []\n",
    "end_err = []\n",
    "start_err = []\n",
    "\n",
    "solvers = [\n",
    "    (\"Implicit Midpoint\", implicit_midpoint_step),\n",
    "    (\"EES(1,5;1/4)\", EES25_1_step),\n",
    "    (\"EES(2,5;1/10)\", EES25_2_step),\n",
    "    (\"EES(2,7;(2-sqrt(2))/4)\", EES27_1_step),\n",
    "    (\"EES(2,7;(5-3*sqrt(2))/14)\", EES27_2_step),\n",
    "]\n",
    "\n",
    "num_runs = 100\n",
    "\n",
    "for name, step_func in solvers:\n",
    "    print(\"Starting \" + name)\n",
    "    time_ = 0\n",
    "    for i in range(num_runs):\n",
    "        t, end_err_, start_err_ = run_inverse_square_attraction(name, step_func)\n",
    "        time_ += t\n",
    "    time_ /= num_runs\n",
    "    times.append(time_)\n",
    "    end_err.append(end_err_)\n",
    "    start_err.append(start_err_)\n",
    "    print(\"Done \" + name + \"\\n\")"
   ]
  },
  {
   "cell_type": "code",
   "execution_count": 9,
   "id": "ddce555c-0b16-4426-a8c2-82a12f1e2e92",
   "metadata": {},
   "outputs": [],
   "source": [
    "end_norm = [np.linalg.norm(xx) for xx in end_err]\n",
    "start_norm = [np.linalg.norm(xx) for xx in start_err]"
   ]
  },
  {
   "cell_type": "code",
   "execution_count": 10,
   "id": "6284ba6a-d18c-4dce-ab9f-ad7c5909d872",
   "metadata": {},
   "outputs": [
    {
     "name": "stdout",
     "output_type": "stream",
     "text": [
      "Implicit Midpoint & 0.06353169202804565 & 0.10062566068818622 & 1.6938588504653234e-13\n",
      "EES(1,5;1/4) & 0.009762468338012696 & 0.04923197537788734 & 3.214276575635452e-05\n",
      "EES(2,5;1/10) & 0.008165018558502197 & 0.030920947707525504 & 7.863932427188999e-07\n",
      "EES(2,7;(2-sqrt(2))/4) & 0.013017115592956542 & 0.023966974179207456 & 2.1529930071239566e-10\n",
      "EES(2,7;(5-3*sqrt(2))/14) & 0.016941308975219727 & 0.015040645748651533 & 4.954544710658016e-10\n"
     ]
    }
   ],
   "source": [
    "for i in range(len(times)):\n",
    "    print(solvers[i][0] + \" & \" + str(times[i]) + \" & \" + str(end_norm[i]) + \" & \" + str(start_norm[i]))"
   ]
  }
 ],
 "metadata": {
  "kernelspec": {
   "display_name": "Python 3 (ipykernel)",
   "language": "python",
   "name": "python3"
  },
  "language_info": {
   "codemirror_mode": {
    "name": "ipython",
    "version": 3
   },
   "file_extension": ".py",
   "mimetype": "text/x-python",
   "name": "python",
   "nbconvert_exporter": "python",
   "pygments_lexer": "ipython3",
   "version": "3.12.3"
  }
 },
 "nbformat": 4,
 "nbformat_minor": 5
}
