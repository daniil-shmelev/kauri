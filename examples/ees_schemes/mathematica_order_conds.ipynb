{
 "cells": [
  {
   "cell_type": "code",
   "execution_count": 1,
   "id": "7316d583-a975-4ac0-b060-bad0a48d50cd",
   "metadata": {},
   "outputs": [],
   "source": [
    "from kauri import *\n",
    "import pickle\n",
    "from sympy import mathematica_code\n",
    "from tqdm import tqdm\n",
    "import sympy as sp"
   ]
  },
  {
   "cell_type": "code",
   "execution_count": 2,
   "id": "7ddae078-82eb-4162-8f14-bde2e3109039",
   "metadata": {},
   "outputs": [],
   "source": [
    "with open('oc.pickle', 'rb') as handle:\n",
    "    OC = pickle.load(handle)\n",
    "\n",
    "with open('ec.pickle', 'rb') as handle:\n",
    "    EC = pickle.load(handle)"
   ]
  },
  {
   "cell_type": "code",
   "execution_count": 3,
   "id": "aac18b52-153d-42c6-aa87-57f9eefdfc39",
   "metadata": {},
   "outputs": [],
   "source": [
    "OC_of_order = []\n",
    "OC_of_order.append(OC[:1])\n",
    "OC_of_order.append(OC[1:2])\n",
    "OC_of_order.append(OC[2:3])\n",
    "OC_of_order.append(OC[3:5])\n",
    "OC_of_order.append(OC[5:9])\n",
    "OC_of_order.append(OC[9:18])\n",
    "OC_of_order.append(OC[18:38])\n",
    "OC_of_order.append(OC[38:86])\n",
    "OC_of_order.append(OC[86:201])\n",
    "\n",
    "EC_of_order = []\n",
    "EC_of_order.append(EC[:1])\n",
    "EC_of_order.append(EC[1:2])\n",
    "EC_of_order.append(EC[2:3])\n",
    "EC_of_order.append(EC[3:5])\n",
    "EC_of_order.append(EC[5:9])\n",
    "EC_of_order.append(EC[9:18])\n",
    "EC_of_order.append(EC[18:38])\n",
    "EC_of_order.append(EC[38:86])\n",
    "EC_of_order.append(EC[86:201])"
   ]
  },
  {
   "cell_type": "code",
   "execution_count": 4,
   "id": "939c80db-31b9-49c0-9378-19caaeb392e2",
   "metadata": {},
   "outputs": [],
   "source": [
    "def filter_(i):\n",
    "    def filter__(t):\n",
    "        if t.nodes() <= i:\n",
    "            return 1./t.factorial()\n",
    "        else:\n",
    "            return t\n",
    "    return filter__"
   ]
  },
  {
   "cell_type": "code",
   "execution_count": 5,
   "id": "aca3df0a-2d41-4a8f-8603-f00e57bf8ac2",
   "metadata": {},
   "outputs": [],
   "source": [
    "def gen_conds(conds, stages, file_name):\n",
    "    b = sp.Matrix(1, stages, lambda i, j: sp.symbols(f'b{j}'))\n",
    "    a = sp.Matrix(stages, stages, lambda i, j: sp.symbols(f'a{i}{j}'))\n",
    "    strs = []\n",
    "    i = 1\n",
    "    for c in conds:\n",
    "        for t in tqdm(c):\n",
    "            r = rk_symbolic_weight(t, stages, explicit = True, mathematica_code = True, rationalise = True)\n",
    "            str_ = \"eq\" + str(i) + \" = \" + r + \" == 0; \\n\"\n",
    "            strs.append(str_)\n",
    "            i += 1\n",
    "    \n",
    "    with open(file_name, \"w\") as text_file:\n",
    "        for s in strs:\n",
    "            text_file.write(s)"
   ]
  },
  {
   "cell_type": "code",
   "execution_count": 6,
   "id": "9cefc05b-34d3-429d-a071-1a290bdd6571",
   "metadata": {},
   "outputs": [],
   "source": [
    "def C(i):\n",
    "    return [t - 1. / t.factorial() for t in trees_up_to_order(i) if t != Tree(None)]"
   ]
  },
  {
   "cell_type": "code",
   "execution_count": 7,
   "id": "b56169aa-d32c-4a29-aed7-7ead0ec7f31f",
   "metadata": {},
   "outputs": [],
   "source": [
    "def EC(i, n):\n",
    "    m = Map(filter_(n))\n",
    "    return [m(x) for x in EC_of_order[i]]"
   ]
  },
  {
   "cell_type": "code",
   "execution_count": 8,
   "id": "e53c3043-605d-4509-83d0-ccd2990ee1b2",
   "metadata": {},
   "outputs": [
    {
     "name": "stderr",
     "output_type": "stream",
     "text": [
      "100%|████████████████████████████████████████████████████████████████████████████████████| 2/2 [00:00<00:00, 20.28it/s]\n",
      "100%|████████████████████████████████████████████████████████████████████████████████████| 4/4 [00:00<00:00, 58.18it/s]\n"
     ]
    }
   ],
   "source": [
    "conds = [C(2),\n",
    "         EC(4,2)]\n",
    "\n",
    "gen_conds(conds, 3, \"ees25_mathematica_code.txt\")"
   ]
  },
  {
   "cell_type": "code",
   "execution_count": 9,
   "id": "4ed852c5-c9c2-4be4-a721-ac7e0c96edd9",
   "metadata": {},
   "outputs": [
    {
     "name": "stderr",
     "output_type": "stream",
     "text": [
      "100%|███████████████████████████████████████████████████████████████████████████████████| 2/2 [00:00<00:00, 188.11it/s]\n",
      "100%|████████████████████████████████████████████████████████████████████████████████████| 4/4 [00:00<00:00, 35.36it/s]\n",
      "100%|██████████████████████████████████████████████████████████████████████████████████| 20/20 [00:01<00:00, 12.95it/s]\n"
     ]
    }
   ],
   "source": [
    "conds = [C(2),\n",
    "         EC(4,2), \n",
    "         EC(6,2)]\n",
    "\n",
    "gen_conds(conds, 4, \"ees27_mathematica_code.txt\")"
   ]
  }
 ],
 "metadata": {
  "kernelspec": {
   "display_name": "Python 3 (ipykernel)",
   "language": "python",
   "name": "python3"
  },
  "language_info": {
   "codemirror_mode": {
    "name": "ipython",
    "version": 3
   },
   "file_extension": ".py",
   "mimetype": "text/x-python",
   "name": "python",
   "nbconvert_exporter": "python",
   "pygments_lexer": "ipython3",
   "version": "3.12.3"
  }
 },
 "nbformat": 4,
 "nbformat_minor": 5
}
