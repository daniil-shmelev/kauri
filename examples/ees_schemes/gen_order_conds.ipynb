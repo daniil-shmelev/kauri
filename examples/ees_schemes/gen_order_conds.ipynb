{
 "cells": [
  {
   "cell_type": "code",
   "execution_count": 1,
   "id": "83a4b7b4-4911-4cb2-9c00-5ed63e31e888",
   "metadata": {},
   "outputs": [],
   "source": [
    "import kauri as kr\n",
    "from tqdm import tqdm\n",
    "import pickle"
   ]
  },
  {
   "cell_type": "code",
   "execution_count": 2,
   "id": "1944fafd-5242-45e1-90f4-c6228d689e73",
   "metadata": {},
   "outputs": [
    {
     "name": "stderr",
     "output_type": "stream",
     "text": [
      "201it [02:39,  1.26it/s]\n"
     ]
    }
   ],
   "source": [
    "#Precompute up to order 8\n",
    "OC = []\n",
    "EC = []\n",
    "\n",
    "for t in tqdm(kr.trees_up_to_order(8)):\n",
    "    OC.append(kr.minus(t).singleton_reduced() - 1. / t.factorial())\n",
    "    EC.append(kr.plus(t).singleton_reduced() - kr.bck.counit(t))\n",
    "\n",
    "with open('oc.pickle', 'wb') as handle:\n",
    "    pickle.dump(OC, handle)\n",
    "\n",
    "with open('ec.pickle', 'wb') as handle:\n",
    "    pickle.dump(EC, handle)"
   ]
  }
 ],
 "metadata": {
  "kernelspec": {
   "display_name": "Python 3 (ipykernel)",
   "language": "python",
   "name": "python3"
  },
  "language_info": {
   "codemirror_mode": {
    "name": "ipython",
    "version": 3
   },
   "file_extension": ".py",
   "mimetype": "text/x-python",
   "name": "python",
   "nbconvert_exporter": "python",
   "pygments_lexer": "ipython3",
   "version": "3.12.3"
  }
 },
 "nbformat": 4,
 "nbformat_minor": 5
}
