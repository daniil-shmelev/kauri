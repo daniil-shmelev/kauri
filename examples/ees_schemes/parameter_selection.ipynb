{
 "cells": [
  {
   "cell_type": "code",
   "execution_count": 1,
   "id": "b0c43e19-d273-45bb-a0e0-4f15997ff98f",
   "metadata": {},
   "outputs": [],
   "source": [
    "import kauri as kr\n",
    "import kauri.bck as bck\n",
    "import pickle\n",
    "from scipy.optimize import minimize\n",
    "from math import sqrt\n",
    "import numpy as np\n",
    "import matplotlib.pyplot as plt"
   ]
  },
  {
   "cell_type": "code",
   "execution_count": 2,
   "id": "b6e70511-3c23-4e99-93bd-f74ddae5c193",
   "metadata": {},
   "outputs": [],
   "source": [
    "def symmetric_order(rk, tol = 1e-10):\n",
    "    ew = rk.elementary_weights_map()\n",
    "    m = (ew & kr.sign) * ew\n",
    "    \n",
    "    t = kr.Tree(None)\n",
    "    while True:\n",
    "        if abs(m(t) - bck.counit(t)) > tol:\n",
    "            return t.nodes() - 1\n",
    "        t = next(t)"
   ]
  },
  {
   "cell_type": "code",
   "execution_count": 3,
   "id": "4f133235-359e-480f-808d-5390762de03f",
   "metadata": {},
   "outputs": [],
   "source": [
    "def loss(rk, n, m):\n",
    "    ew = rk.elementary_weights_map()\n",
    "    s = rk.s\n",
    "    loss_vec = []\n",
    "    \n",
    "    for i in range(n+1):\n",
    "        if i % 2 == 0:\n",
    "            continue\n",
    "        oc = OC_of_order[i]\n",
    "        for t in oc:\n",
    "            loss_vec.append(ew(t))\n",
    "\n",
    "    p = max(m,n)\n",
    "    \n",
    "    for i in range(1, p+1):\n",
    "        if i % 2 == 1:\n",
    "            continue\n",
    "        oc = EC_of_order[i]\n",
    "        for t in oc:\n",
    "            loss_vec.append(ew(t))\n",
    "\n",
    "    return (sum(abs(x) for x in loss_vec))"
   ]
  },
  {
   "cell_type": "markdown",
   "id": "29aa9e41-e6dd-498a-ba6b-7d0857473321",
   "metadata": {},
   "source": [
    "## Load order conditions"
   ]
  },
  {
   "cell_type": "code",
   "execution_count": 4,
   "id": "c7a54a0d-b838-44f0-93a3-3eb15c47e16e",
   "metadata": {},
   "outputs": [],
   "source": [
    "with open('oc.pickle', 'rb') as handle:\n",
    "    OC = pickle.load(handle)\n",
    "\n",
    "with open('ec.pickle', 'rb') as handle:\n",
    "    EC = pickle.load(handle)"
   ]
  },
  {
   "cell_type": "code",
   "execution_count": 5,
   "id": "aa8064df-7f3f-478a-9e90-15980108a6bf",
   "metadata": {},
   "outputs": [],
   "source": [
    "OC_of_order = []\n",
    "OC_of_order.append(OC[:1])\n",
    "OC_of_order.append(OC[1:2])\n",
    "OC_of_order.append(OC[2:3])\n",
    "OC_of_order.append(OC[3:5])\n",
    "OC_of_order.append(OC[5:9])\n",
    "OC_of_order.append(OC[9:18])\n",
    "OC_of_order.append(OC[18:38])\n",
    "OC_of_order.append(OC[38:86])\n",
    "OC_of_order.append(OC[86:201])\n",
    "\n",
    "EC_of_order = []\n",
    "EC_of_order.append(EC[:1])\n",
    "EC_of_order.append(EC[1:2])\n",
    "EC_of_order.append(EC[2:3])\n",
    "EC_of_order.append(EC[3:5])\n",
    "EC_of_order.append(EC[5:9])\n",
    "EC_of_order.append(EC[9:18])\n",
    "EC_of_order.append(EC[18:38])\n",
    "EC_of_order.append(EC[38:86])\n",
    "EC_of_order.append(EC[86:201])"
   ]
  },
  {
   "cell_type": "markdown",
   "id": "e9c0d05d-30fd-4c8d-9887-c584cd812e16",
   "metadata": {},
   "source": [
    "# EES(2,5)"
   ]
  },
  {
   "cell_type": "code",
   "execution_count": 6,
   "id": "503fd238-f8e4-403a-b0a1-9b90c65670cc",
   "metadata": {},
   "outputs": [],
   "source": [
    "def EES25(x):\n",
    "    b1 = x\n",
    "    b2 = 1/2\n",
    "    b3 = 1/2 - x\n",
    "    a21 = (1+2*x) / (4*(1-x))\n",
    "    a31 = (4*x-1)**2 / (4*(x-1)*(1-4*x**2))\n",
    "    a32 = (1-x) / (1-4*x**2)\n",
    "\n",
    "    b = [b1, b2, b3]\n",
    "    A = [[0,0,0],\n",
    "        [a21, 0, 0],\n",
    "        [a31, a32, 0]]\n",
    "\n",
    "    return kr.RK(A,b)"
   ]
  },
  {
   "cell_type": "markdown",
   "id": "00cbf9d7-d889-4d4b-a13b-784576e63ef8",
   "metadata": {},
   "source": [
    "## Check order"
   ]
  },
  {
   "cell_type": "code",
   "execution_count": 7,
   "id": "8f3c4003-4de4-4bdb-bded-bdb3fcbaae7a",
   "metadata": {},
   "outputs": [
    {
     "name": "stdout",
     "output_type": "stream",
     "text": [
      "2 5\n"
     ]
    }
   ],
   "source": [
    "method = EES25(0.1)\n",
    "print(method.order(), symmetric_order(method))"
   ]
  },
  {
   "cell_type": "markdown",
   "id": "38208026-d7da-4e72-a95d-e244a413d2e2",
   "metadata": {},
   "source": [
    "## Parameter selection"
   ]
  },
  {
   "cell_type": "markdown",
   "id": "9611f562-5350-4114-bf2f-f05a036296f7",
   "metadata": {},
   "source": [
    "### Minimise C3 and OC7"
   ]
  },
  {
   "cell_type": "code",
   "execution_count": 8,
   "id": "76e44948-3928-4a68-b6a1-7f17cf81ea3c",
   "metadata": {},
   "outputs": [
    {
     "data": {
      "text/plain": [
       "[<matplotlib.lines.Line2D at 0x1677f5dda90>]"
      ]
     },
     "execution_count": 8,
     "metadata": {},
     "output_type": "execute_result"
    },
    {
     "data": {
      "image/png": "[encoded data removed]",
      "text/plain": [
       "<Figure size 640x480 with 1 Axes>"
      ]
     },
     "metadata": {},
     "output_type": "display_data"
    }
   ],
   "source": [
    "def loss__(x):\n",
    "    n = 3\n",
    "    m = 7\n",
    "    return loss(EES25(x[0]), n, m)\n",
    "\n",
    "xrange = np.linspace(0,0.3,100)\n",
    "L = [loss__([y]) for y in xrange]\n",
    "\n",
    "plt.plot(xrange, L)"
   ]
  },
  {
   "cell_type": "code",
   "execution_count": 9,
   "id": "37b4de6f-75bf-4a60-8442-67ec14f225d3",
   "metadata": {},
   "outputs": [
    {
     "name": "stdout",
     "output_type": "stream",
     "text": [
      "Optimization terminated successfully.\n",
      "         Current function value: 0.114390\n",
      "         Iterations: 50\n",
      "         Function evaluations: 105\n",
      "np.float64(0.09999999999999887)\n"
     ]
    }
   ],
   "source": [
    "res = minimize(loss__, np.array([0.1]), method='nelder-mead',\n",
    "               options={'xatol': 1e-17, 'disp': True, 'maxiter' : 100000})\n",
    "print(repr(res.x[0]))"
   ]
  },
  {
   "cell_type": "markdown",
   "id": "83afda22-4e25-4c17-b35c-ad427bd21521",
   "metadata": {},
   "source": [
    "# EES(2,7)"
   ]
  },
  {
   "cell_type": "code",
   "execution_count": 10,
   "id": "a1c5540b-b0cb-43c0-b701-f7e7d164a6b4",
   "metadata": {},
   "outputs": [],
   "source": [
    "def EES27(x, plus = True):\n",
    "    sqrt2 = sqrt(2) if plus else - sqrt(2)\n",
    "    \n",
    "    b1 = x\n",
    "    b2 = 0.5 * (2 - sqrt2) - (1-sqrt2) * x\n",
    "    b3 = (1-sqrt2) * (x-1)\n",
    "    b4 = 0.5 * (2 - sqrt2) - x\n",
    "\n",
    "    alpha = (-2*x + sqrt2 + 1) * (2*x + sqrt2) / ((2*x - 1) * (4 * x ** 2 - 4*x - 1))\n",
    "    beta = (1 + sqrt2 - 2 * x) * (2+sqrt2-2*x) / ((2*x-1)*(2*x**2 - 4*x + 1)*(4*x**2-4*x-1))\n",
    "    \n",
    "    a21 = (-2+sqrt2*(1-2*x))/(4*(x-1))\n",
    "    a31 = (2*x + sqrt2 - 2)*(4*x + sqrt2 - 2) * alpha / (4 * sqrt2 * (x-1))\n",
    "    a32 = 0.5 * (-1 + sqrt2) * alpha\n",
    "    a41 = beta * (2*x -sqrt2)*(-40*x**4 + (80 - 40*sqrt2)*x**3 - (88-60*sqrt2)*x**2 + (48-34*sqrt2)*x + 7*sqrt2 - 10) / (8*(x-1)*(2*x**2 - 1))\n",
    "    a42 = 0.5 * (2 - sqrt2) * x * (x-1) * (4*x + sqrt2 - 2) * beta\n",
    "    a43 = (2 - sqrt2) * (2*x - sqrt2) * (2+sqrt2 - 2*x) * (x-1) * (2*x - 1) / (4 * (2*x**2 - 1) * (2*x**2 - 4*x +1))\n",
    "\n",
    "    \n",
    "    b = [b1, b2, b3, b4]\n",
    "    A = [[0,0,0,0],\n",
    "        [a21, 0, 0, 0],\n",
    "        [a31, a32, 0, 0],\n",
    "        [a41, a42, a43, 0]]\n",
    "\n",
    "    return kr.RK(A,b)"
   ]
  },
  {
   "cell_type": "markdown",
   "id": "b551cc02-458b-4bff-bec6-7ebaa167b732",
   "metadata": {},
   "source": [
    "## Check order"
   ]
  },
  {
   "cell_type": "code",
   "execution_count": 11,
   "id": "f67e6cb4-247a-40ec-8847-0c2947d5c3a4",
   "metadata": {},
   "outputs": [
    {
     "name": "stdout",
     "output_type": "stream",
     "text": [
      "2 7\n"
     ]
    }
   ],
   "source": [
    "method = EES27(0.1)\n",
    "print(method.order(), symmetric_order(method))"
   ]
  },
  {
   "cell_type": "markdown",
   "id": "2fd5eea1-62d2-40eb-8971-18e33e0402f1",
   "metadata": {},
   "source": [
    "## Parameter selection"
   ]
  },
  {
   "cell_type": "markdown",
   "id": "4fe5ff86-94e7-4c2e-abab-f5d01a24e912",
   "metadata": {},
   "source": [
    "### Minimise C3 and OC9"
   ]
  },
  {
   "cell_type": "code",
   "execution_count": 12,
   "id": "2a9492d6-c579-4340-a987-9240c1e02c7f",
   "metadata": {},
   "outputs": [
    {
     "data": {
      "text/plain": [
       "[<matplotlib.lines.Line2D at 0x1673f35a3f0>]"
      ]
     },
     "execution_count": 12,
     "metadata": {},
     "output_type": "execute_result"
    },
    {
     "data": {
      "image/png": "[encoded data removed]",
      "text/plain": [
       "<Figure size 640x480 with 1 Axes>"
      ]
     },
     "metadata": {},
     "output_type": "display_data"
    }
   ],
   "source": [
    "def loss__(x):\n",
    "    n = 3\n",
    "    m = 9\n",
    "    return loss(EES27(x[0]), n, m)\n",
    "\n",
    "xrange = np.linspace(0,0.1,100)\n",
    "L = [loss__([y]) for y in xrange]\n",
    "\n",
    "plt.plot(xrange, L)"
   ]
  },
  {
   "cell_type": "code",
   "execution_count": 13,
   "id": "2d06016a-dabf-4668-a4fa-e3ec84b38e43",
   "metadata": {},
   "outputs": [
    {
     "name": "stdout",
     "output_type": "stream",
     "text": [
      "Optimization terminated successfully.\n",
      "         Current function value: 0.035169\n",
      "         Iterations: 55\n",
      "         Function evaluations: 117\n",
      "np.float64(0.05409709377720059)\n"
     ]
    }
   ],
   "source": [
    "res = minimize(loss__, np.array([0.1]), method='nelder-mead',\n",
    "               options={'xatol': 1e-17, 'disp': True, 'maxiter' : 100000})\n",
    "print(repr(res.x[0]))"
   ]
  },
  {
   "cell_type": "code",
   "execution_count": 14,
   "id": "9a2f8d4c-2460-4185-a7cc-3bdf5e0c24b8",
   "metadata": {},
   "outputs": [
    {
     "name": "stdout",
     "output_type": "stream",
     "text": [
      "0.054097093777193885\n"
     ]
    }
   ],
   "source": [
    "print((5 - 3 * sqrt(2)) / 14)"
   ]
  }
 ],
 "metadata": {
  "kernelspec": {
   "display_name": "Python 3 (ipykernel)",
   "language": "python",
   "name": "python3"
  },
  "language_info": {
   "codemirror_mode": {
    "name": "ipython",
    "version": 3
   },
   "file_extension": ".py",
   "mimetype": "text/x-python",
   "name": "python",
   "nbconvert_exporter": "python",
   "pygments_lexer": "ipython3",
   "version": "3.12.3"
  }
 },
 "nbformat": 4,
 "nbformat_minor": 5
}
